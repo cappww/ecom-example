{
 "cells": [
  {
   "cell_type": "code",
   "execution_count": 1,
   "metadata": {},
   "outputs": [],
   "source": [
    "import json"
   ]
  },
  {
   "cell_type": "code",
   "execution_count": 3,
   "metadata": {},
   "outputs": [],
   "source": [
    "# Load the JSON data\n",
    "with open('products.json', 'r') as file:\n",
    "    products = json.load(file)"
   ]
  },
  {
   "cell_type": "code",
   "execution_count": 9,
   "metadata": {},
   "outputs": [],
   "source": [
    "# Generate SQL insert statements\n",
    "insert_statements = []\n",
    "for product in products:\n",
    "    id = product['id']\n",
    "    name = product['name']\n",
    "    description = product['description']\n",
    "    category = product['category']\n",
    "    price = product['price']\n",
    "    quantity = product['quantity']\n",
    "    image = product['image']\n",
    "    wight = product['weight']\n",
    "    model = product['model']\n",
    "\n",
    "    insert_statements.append(f\"('{id}', '{name}', '{description}', '{category}', {price}, {quantity}, '{image}', {wight}, '{model}'),\")"
   ]
  },
  {
   "cell_type": "code",
   "execution_count": 10,
   "metadata": {},
   "outputs": [],
   "source": [
    "# Write to seed.sql\n",
    "with open('seed-inserts.sql', 'a') as f:\n",
    "    f.write('\\n'.join(insert_statements))"
   ]
  }
 ],
 "metadata": {
  "kernelspec": {
   "display_name": "Python 3",
   "language": "python",
   "name": "python3"
  },
  "language_info": {
   "codemirror_mode": {
    "name": "ipython",
    "version": 3
   },
   "file_extension": ".py",
   "mimetype": "text/x-python",
   "name": "python",
   "nbconvert_exporter": "python",
   "pygments_lexer": "ipython3",
   "version": "3.9.6"
  }
 },
 "nbformat": 4,
 "nbformat_minor": 2
}
