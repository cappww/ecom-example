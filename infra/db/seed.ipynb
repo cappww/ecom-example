{
 "cells": [
  {
   "cell_type": "code",
   "execution_count": 10,
   "metadata": {},
   "outputs": [],
   "source": [
    "import json\n",
    "\n",
    "# Load the JSON data\n",
    "with open('products.json', 'r') as file:\n",
    "    products = json.load(file)\n",
    "\n",
    "# Generate SQL insert statements\n",
    "insert_statements = []\n",
    "for product in products:\n",
    "    id = product['id']\n",
    "    name = product['name']\n",
    "    description = product['description']\n",
    "    category = product['category']\n",
    "    price = product['price']\n",
    "    quantity = product['quantity']\n",
    "    image = product['image']\n",
    "    weight = product['weight']\n",
    "    model = product['model']\n",
    "\n",
    "    str = f\"('{id}', '{name}', '{description}', '{category}', {price}, {quantity}, '{image}', {weight}, '{model}')\"\n",
    "    str = str.replace(\"'None'\", \"NULL\")\n",
    "    if product == products[-1]:\n",
    "        str += \";\"\n",
    "    else:\n",
    "        str += \",\"\n",
    "    \n",
    "    insert_statements.append(str)"
   ]
  },
  {
   "cell_type": "code",
   "execution_count": 11,
   "metadata": {},
   "outputs": [],
   "source": [
    "header = '''-- SQL Seed Data\n",
    "-- This file contains SQL insert statements for the products table\n",
    "CREATE TABLE products (\n",
    "    id UUID PRIMARY KEY,\n",
    "    name VARCHAR(255) NOT NULL,\n",
    "    description TEXT,\n",
    "    category VARCHAR(255),\n",
    "    price DECIMAL(10, 2),\n",
    "    quantity INT,\n",
    "    image VARCHAR(255),\n",
    "    weight DECIMAL(10, 2),\n",
    "    model VARCHAR(255)\n",
    ");\n",
    "\n",
    "INSERT INTO products (id, name, description, category, price, quantity, image, weight, model) VALUES'''\n",
    "\n",
    "# Write to seed.sql\n",
    "with open('new-seed.sql', 'a') as f:\n",
    "    f.write(header + '\\n')\n",
    "    f.write('\\n'.join(insert_statements))"
   ]
  }
 ],
 "metadata": {
  "kernelspec": {
   "display_name": "Python 3",
   "language": "python",
   "name": "python3"
  },
  "language_info": {
   "codemirror_mode": {
    "name": "ipython",
    "version": 3
   },
   "file_extension": ".py",
   "mimetype": "text/x-python",
   "name": "python",
   "nbconvert_exporter": "python",
   "pygments_lexer": "ipython3",
   "version": "3.9.6"
  }
 },
 "nbformat": 4,
 "nbformat_minor": 2
}
